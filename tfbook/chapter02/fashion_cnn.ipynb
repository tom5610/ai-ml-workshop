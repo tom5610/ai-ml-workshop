{
  "nbformat": 4,
  "nbformat_minor": 0,
  "metadata": {
    "colab": {
      "name": "fashion-cnn.ipynb",
      "provenance": [],
      "authorship_tag": "ABX9TyN/y3Pp7y7C1bCeBvdp6voW",
      "include_colab_link": true
    },
    "kernelspec": {
      "name": "python3",
      "display_name": "Python 3"
    },
    "language_info": {
      "name": "python"
    }
  },
  "cells": [
    {
      "cell_type": "markdown",
      "metadata": {
        "id": "view-in-github",
        "colab_type": "text"
      },
      "source": [
        "<a href=\"https://colab.research.google.com/github/tom5610/ai-ml-workshop/blob/main/tfbook/chapter02/fashion_cnn.ipynb\" target=\"_parent\"><img src=\"https://colab.research.google.com/assets/colab-badge.svg\" alt=\"Open In Colab\"/></a>"
      ]
    },
    {
      "cell_type": "code",
      "metadata": {
        "id": "qg2KSUawVmJC"
      },
      "source": [
        "import tensorflow as tf"
      ],
      "execution_count": 1,
      "outputs": []
    },
    {
      "cell_type": "code",
      "metadata": {
        "id": "ZJRN-BrNV-a1"
      },
      "source": [
        "class myCallback(tf.keras.callbacks.Callback):\n",
        "    def on_epoch_end(self, epoch, logs = {}):\n",
        "        if (logs.get('accuracy') > 0.99):\n",
        "            print(\"\\nReached 99% accuracy so cancelling training!\")\n",
        "            self.model.stop_training = True"
      ],
      "execution_count": 2,
      "outputs": []
    },
    {
      "cell_type": "code",
      "metadata": {
        "id": "HHS2oGU1XsBs"
      },
      "source": [
        "callbacks = myCallback()"
      ],
      "execution_count": 3,
      "outputs": []
    },
    {
      "cell_type": "code",
      "metadata": {
        "colab": {
          "base_uri": "https://localhost:8080/"
        },
        "id": "K--tZbYiXtik",
        "outputId": "22aacdee-9151-4634-89c0-9d619fdbfe8f"
      },
      "source": [
        "data = tf.keras.datasets.fashion_mnist\n",
        "\n",
        "(training_images, training_labels), (test_images, test_labels) = data.load_data()\n",
        "print(type(training_images))"
      ],
      "execution_count": 4,
      "outputs": [
        {
          "output_type": "stream",
          "text": [
            "<class 'numpy.ndarray'>\n"
          ],
          "name": "stdout"
        }
      ]
    },
    {
      "cell_type": "code",
      "metadata": {
        "colab": {
          "base_uri": "https://localhost:8080/"
        },
        "id": "Thot1RSwX0ZY",
        "outputId": "c8bda7e6-a796-48ae-f490-206818b39cc6"
      },
      "source": [
        "training_images.shape"
      ],
      "execution_count": 5,
      "outputs": [
        {
          "output_type": "execute_result",
          "data": {
            "text/plain": [
              "(60000, 28, 28)"
            ]
          },
          "metadata": {
            "tags": []
          },
          "execution_count": 5
        }
      ]
    },
    {
      "cell_type": "code",
      "metadata": {
        "id": "1TCwzN52YDwz"
      },
      "source": [
        "training_images = training_images.reshape(60000, 28, 28, 1)\n",
        "training_images = training_images / 255.\n",
        "test_images = test_images.reshape(10000, 28, 28, 1)\n",
        "test_images = test_images / 255. "
      ],
      "execution_count": 6,
      "outputs": []
    },
    {
      "cell_type": "code",
      "metadata": {
        "colab": {
          "base_uri": "https://localhost:8080/",
          "height": 265
        },
        "id": "9HAqHS9gYsOz",
        "outputId": "70dd0e11-bbbc-48fb-9d5c-7e2e99236f99"
      },
      "source": [
        "%matplotlib inline\n",
        "import matplotlib.pyplot as plt \n",
        "plt.imshow(training_images[0].reshape(28, 28))\n",
        "plt.show()"
      ],
      "execution_count": 8,
      "outputs": [
        {
          "output_type": "display_data",
          "data": {
            "image/png": "[encoded data removed]",
            "text/plain": [
              "<Figure size 432x288 with 1 Axes>"
            ]
          },
          "metadata": {
            "tags": [],
            "needs_background": "light"
          }
        }
      ]
    },
    {
      "cell_type": "code",
      "metadata": {
        "colab": {
          "base_uri": "https://localhost:8080/"
        },
        "id": "yz34nPT4Y4eM",
        "outputId": "5f7f6cd2-e0de-4b50-dd66-a2f1de73e3a9"
      },
      "source": [
        "model = tf.keras.Sequential([\n",
        "    tf.keras.layers.Conv2D(64, (3, 3), activation = 'relu', input_shape = (28, 28, 1)),\n",
        "    tf.keras.layers.MaxPooling2D(2, 2),\n",
        "    tf.keras.layers.Conv2D(64, (3, 3), activation = 'relu'),\n",
        "    tf.keras.layers.MaxPooling2D(2, 2),\n",
        "    tf.keras.layers.Flatten(),\n",
        "    tf.keras.layers.Dense(128, activation = tf.nn.relu),\n",
        "    tf.keras.layers.Dense(10, activation = tf.nn.softmax)\n",
        "])\n",
        "\n",
        "model.compile(optimizer = 'adam',\n",
        "              loss = 'sparse_categorical_crossentropy',\n",
        "              metrics = ['accuracy'])\n",
        "\n",
        "model.summary()"
      ],
      "execution_count": 10,
      "outputs": [
        {
          "output_type": "stream",
          "text": [
            "Model: \"sequential\"\n",
            "_________________________________________________________________\n",
            "Layer (type)                 Output Shape              Param #   \n",
            "=================================================================\n",
            "conv2d (Conv2D)              (None, 26, 26, 64)        640       \n",
            "_________________________________________________________________\n",
            "max_pooling2d (MaxPooling2D) (None, 13, 13, 64)        0         \n",
            "_________________________________________________________________\n",
            "conv2d_1 (Conv2D)            (None, 11, 11, 64)        36928     \n",
            "_________________________________________________________________\n",
            "max_pooling2d_1 (MaxPooling2 (None, 5, 5, 64)          0         \n",
            "_________________________________________________________________\n",
            "flatten (Flatten)            (None, 1600)              0         \n",
            "_________________________________________________________________\n",
            "dense (Dense)                (None, 128)               204928    \n",
            "_________________________________________________________________\n",
            "dense_1 (Dense)              (None, 10)                1290      \n",
            "=================================================================\n",
            "Total params: 243,786\n",
            "Trainable params: 243,786\n",
            "Non-trainable params: 0\n",
            "_________________________________________________________________\n"
          ],
          "name": "stdout"
        }
      ]
    },
    {
      "cell_type": "code",
      "metadata": {
        "id": "BoJXJd0ZcPqI",
        "outputId": "96a0d503-bc75-4f48-ccdd-28c3e7d8ae52",
        "colab": {
          "base_uri": "https://localhost:8080/"
        }
      },
      "source": [
        "model.fit(training_images, training_labels, epochs = 50, callbacks = [callbacks])"
      ],
      "execution_count": 11,
      "outputs": [
        {
          "output_type": "stream",
          "text": [
            "Epoch 1/50\n",
            "1875/1875 [==============================] - 101s 54ms/step - loss: 0.4394 - accuracy: 0.8397\n",
            "Epoch 2/50\n",
            "1875/1875 [==============================] - 102s 54ms/step - loss: 0.2945 - accuracy: 0.8927\n",
            "Epoch 3/50\n",
            "1875/1875 [==============================] - 99s 53ms/step - loss: 0.2484 - accuracy: 0.9086\n",
            "Epoch 4/50\n",
            "1875/1875 [==============================] - 93s 49ms/step - loss: 0.2157 - accuracy: 0.9192\n",
            "Epoch 5/50\n",
            "1875/1875 [==============================] - 93s 50ms/step - loss: 0.1902 - accuracy: 0.9287\n",
            "Epoch 6/50\n",
            "1875/1875 [==============================] - 98s 52ms/step - loss: 0.1675 - accuracy: 0.9366\n",
            "Epoch 7/50\n",
            "1875/1875 [==============================] - 97s 52ms/step - loss: 0.1474 - accuracy: 0.9448\n",
            "Epoch 8/50\n",
            "1875/1875 [==============================] - 95s 51ms/step - loss: 0.1290 - accuracy: 0.9506\n",
            "Epoch 9/50\n",
            "1875/1875 [==============================] - 93s 50ms/step - loss: 0.1154 - accuracy: 0.9561\n",
            "Epoch 10/50\n",
            "1875/1875 [==============================] - 93s 49ms/step - loss: 0.1007 - accuracy: 0.9619\n",
            "Epoch 11/50\n",
            "1875/1875 [==============================] - 91s 48ms/step - loss: 0.0898 - accuracy: 0.9650\n",
            "Epoch 12/50\n",
            "1875/1875 [==============================] - 91s 49ms/step - loss: 0.0796 - accuracy: 0.9698\n",
            "Epoch 13/50\n",
            "1875/1875 [==============================] - 91s 49ms/step - loss: 0.0710 - accuracy: 0.9735\n",
            "Epoch 14/50\n",
            "1875/1875 [==============================] - 91s 49ms/step - loss: 0.0623 - accuracy: 0.9766\n",
            "Epoch 15/50\n",
            "1875/1875 [==============================] - 90s 48ms/step - loss: 0.0589 - accuracy: 0.9780\n",
            "Epoch 16/50\n",
            "1875/1875 [==============================] - 89s 48ms/step - loss: 0.0487 - accuracy: 0.9814\n",
            "Epoch 17/50\n",
            "1875/1875 [==============================] - 92s 49ms/step - loss: 0.0489 - accuracy: 0.9810\n",
            "Epoch 18/50\n",
            "1875/1875 [==============================] - 95s 51ms/step - loss: 0.0400 - accuracy: 0.9848\n",
            "Epoch 19/50\n",
            "1875/1875 [==============================] - 93s 50ms/step - loss: 0.0421 - accuracy: 0.9839\n",
            "Epoch 20/50\n",
            "1875/1875 [==============================] - 92s 49ms/step - loss: 0.0356 - accuracy: 0.9865\n",
            "Epoch 21/50\n",
            "1875/1875 [==============================] - 94s 50ms/step - loss: 0.0363 - accuracy: 0.9868\n",
            "Epoch 22/50\n",
            "1875/1875 [==============================] - 95s 51ms/step - loss: 0.0343 - accuracy: 0.9875\n",
            "Epoch 23/50\n",
            "1875/1875 [==============================] - 92s 49ms/step - loss: 0.0331 - accuracy: 0.9880\n",
            "Epoch 24/50\n",
            "1875/1875 [==============================] - 94s 50ms/step - loss: 0.0311 - accuracy: 0.9890\n",
            "Epoch 25/50\n",
            "1875/1875 [==============================] - 91s 48ms/step - loss: 0.0293 - accuracy: 0.9899\n",
            "Epoch 26/50\n",
            "1875/1875 [==============================] - 94s 50ms/step - loss: 0.0256 - accuracy: 0.9910\n",
            "\n",
            "Reached 99% accuracy so cancelling training!\n"
          ],
          "name": "stdout"
        },
        {
          "output_type": "execute_result",
          "data": {
            "text/plain": [
              "<tensorflow.python.keras.callbacks.History at 0x7f1654d44490>"
            ]
          },
          "metadata": {
            "tags": []
          },
          "execution_count": 11
        }
      ]
    },
    {
      "cell_type": "code",
      "metadata": {
        "id": "uYb26Pq5ptMO",
        "outputId": "82841454-d5ad-4c3a-ba42-75387ffc9d3e",
        "colab": {
          "base_uri": "https://localhost:8080/"
        }
      },
      "source": [
        "model.evaluate(test_images, test_labels)"
      ],
      "execution_count": 12,
      "outputs": [
        {
          "output_type": "stream",
          "text": [
            "313/313 [==============================] - 4s 13ms/step - loss: 0.5742 - accuracy: 0.9143\n"
          ],
          "name": "stdout"
        },
        {
          "output_type": "execute_result",
          "data": {
            "text/plain": [
              "[0.5742487907409668, 0.9143000245094299]"
            ]
          },
          "metadata": {
            "tags": []
          },
          "execution_count": 12
        }
      ]
    },
    {
      "cell_type": "code",
      "metadata": {
        "id": "YaAXajdQpwSf",
        "outputId": "25229b77-1196-4252-f3ed-4e30cbfe321c",
        "colab": {
          "base_uri": "https://localhost:8080/"
        }
      },
      "source": [
        "classifications = model.predict(test_images)\n",
        "print(classifications[0])\n",
        "print(test_labels[0])"
      ],
      "execution_count": 13,
      "outputs": [
        {
          "output_type": "stream",
          "text": [
            "[3.0337514e-12 5.5824380e-11 9.7644408e-23 1.0679612e-20 3.3993129e-12\n",
            " 2.9964475e-11 4.9105298e-21 7.6877610e-10 1.3821692e-15 1.0000000e+00]\n",
            "9\n"
          ],
          "name": "stdout"
        }
      ]
    },
    {
      "cell_type": "code",
      "metadata": {
        "id": "ZPN3tHBXp3Gr"
      },
      "source": [
        ""
      ],
      "execution_count": null,
      "outputs": []
    }
  ]
}